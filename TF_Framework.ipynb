{
 "cells": [
  {
   "cell_type": "markdown",
   "metadata": {},
   "source": [
    "## TF Framework\n",
    "#### Manual implementation of TF in details - Target Code in the bottom"
   ]
  },
  {
   "cell_type": "code",
   "execution_count": 1,
   "metadata": {},
   "outputs": [],
   "source": [
    "import numpy as np"
   ]
  },
  {
   "cell_type": "markdown",
   "metadata": {},
   "source": [
    "We'll create a set of classes to implement the TF framework manually\n",
    "\n",
    "Our goal is to use this framework to perform a basic matrix multiplication using the basic neural network structure of inputs, weights and nodes.\n",
    "And make this code work:\n",
    "    - \n",
    "      sess = Session()\n",
    "      \n",
    "      g = Graph()\n",
    "      g.set_as_default()\n",
    "      \n",
    "      A = Variable([[10,20],[30,40]])\n",
    "      b = Variable([1,1])\n",
    "      \n",
    "      x = Placeholder()\n",
    "      \n",
    "      y = matmul(A,x)\n",
    "      \n",
    "      sess.run(operation = z, feed_dict={x:10})\n"
   ]
  },
  {
   "cell_type": "markdown",
   "metadata": {},
   "source": [
    "#### Building Operations"
   ]
  },
  {
   "cell_type": "code",
   "execution_count": 12,
   "metadata": {},
   "outputs": [],
   "source": [
    "#Operation Class will not be used directly. It will be inherited by the specific operation's classes\n",
    "\n",
    "class Operation():\n",
    "    \"\"\"\n",
    "    no docstring\n",
    "    \"\"\"\n",
    "    #Class Attributes\n",
    "    #WARNING None\n",
    "\n",
    "    #Defining Constructor\n",
    "    def __init__(self, input_nodes=[]):\n",
    "        #object Operation has two nodes\n",
    "        self.input_nodes = input_nodes\n",
    "        self.output_nodes = []\n",
    "\n",
    "        #every operation is appended to the output node\n",
    "        for node in input_nodes:\n",
    "            node.output_nodes.append(self)\n",
    "\n",
    "        #global var declared in Graph Class\n",
    "        _default_graph.operation.append(self)\n",
    "\n",
    "    #Compute method will be overwritten by the operations' classes\n",
    "    def compute(self):\n",
    "        pass"
   ]
  },
  {
   "cell_type": "code",
   "execution_count": 13,
   "metadata": {},
   "outputs": [],
   "source": [
    "#Single operation classes\n",
    "\n",
    "#Add inheriths methods from Operation\n",
    "class add(Operation):\n",
    "\n",
    "    #Add takes in x and y and adds them\n",
    "    def __init__(self, x, y):\n",
    "        #super call to receive arguments from the inherithed class\n",
    "        super().__init__([x,y])\n",
    "\n",
    "\n",
    "    #Overwriting Compute method from Operation Class\n",
    "    def compute(self, x_var, y_var):\n",
    "        self.inputs = [x_var, y_var]\n",
    "        return x_var + y_var\n",
    "\n",
    "#Same concepts applies to the classes below\n",
    "#######################################################\n",
    "class multiply(Operation):\n",
    "\n",
    "    def __init__(self, x, y):\n",
    "        super().__init__([x,y])\n",
    "\n",
    "    def compute(self, x_var, y_var):\n",
    "        self.inputs = [x_var, y_var]\n",
    "        return x_var * y_var\n",
    "\n",
    "#######################################################\n",
    "class matmul(Operation):\n",
    "\n",
    "    def __init__(self, x, y):\n",
    "        super().__init__([x,y])\n",
    "\n",
    "    def compute(self, x_var, y_var):\n",
    "        self.inputs = [x_var, y_var]\n",
    "        return x_var.dot(y_var)\n",
    "\n",
    "#######################################################\n"
   ]
  },
  {
   "cell_type": "markdown",
   "metadata": {},
   "source": [
    "#### Building Graph and Placeholder for variable"
   ]
  },
  {
   "cell_type": "code",
   "execution_count": 14,
   "metadata": {},
   "outputs": [],
   "source": [
    "#Graph class will connect placeholder, variables and operations\n",
    "class Graph():\n",
    "\n",
    "    def __init__(self):\n",
    "        self.operation = []\n",
    "        self.placeholders = []\n",
    "        self.variables = []\n",
    "\n",
    "    def set_as_default(self):\n",
    "        global _default_graph\n",
    "        _default_graph = self"
   ]
  },
  {
   "cell_type": "code",
   "execution_count": 15,
   "metadata": {},
   "outputs": [],
   "source": [
    "#Placeholder class will hold the values of the nodes\n",
    "class Placeholder():\n",
    "\n",
    "    def __init__(self):\n",
    "\n",
    "        self.output_nodes = []\n",
    "        _default_graph.placeholders.append(self)"
   ]
  },
  {
   "cell_type": "markdown",
   "metadata": {},
   "source": [
    "#### Variable class will hold the  weights"
   ]
  },
  {
   "cell_type": "code",
   "execution_count": 16,
   "metadata": {},
   "outputs": [],
   "source": [
    "#Changeable parameters of the graph ( the weights)\n",
    "class Variable():\n",
    "\n",
    "    def __init__(self, initial_value=None):\n",
    "\n",
    "        self.value = initial_value\n",
    "        self.output_nodes = []\n",
    "\n",
    "        _default_graph.variables.append(self)"
   ]
  },
  {
   "cell_type": "markdown",
   "metadata": {},
   "source": [
    "#### Flow control and linker classes"
   ]
  },
  {
   "cell_type": "code",
   "execution_count": 17,
   "metadata": {},
   "outputs": [],
   "source": [
    "#Provides flow control for the operations\n",
    "class Session():\n",
    "\n",
    "    #feed_dict maps placeholders to input values\n",
    "    # later they'll feed batches of data to the network\n",
    "    def run(self, operation, feed_dict={}):\n",
    "\n",
    "        nodes_postorder = traverse_postorder(operation)\n",
    "\n",
    "        for node in nodes_postorder:\n",
    "\n",
    "            #IF NOT A Placeholder\n",
    "            if type(node) == Placeholder:\n",
    "                node.output = feed_dict[node]\n",
    "            #And NOT an operation\n",
    "            elif type(node) == Variable:\n",
    "                node.output = node.value\n",
    "            #Then EXECUTE the operation for all the nodes\n",
    "            else:\n",
    "                node.inputs = [input_node.output for input_node in node.input_nodes]\n",
    "                node.output = node.compute(*node.inputs) # * to handle multiple args\n",
    "\n",
    "            if type(node.output) == list:\n",
    "                #converting the list to numpy arrays\n",
    "                node.output = np.array(node.output)\n",
    "\n",
    "        return operation.output\n",
    "\n",
    "#Declaring session object\n",
    "sess = Session()\n"
   ]
  },
  {
   "cell_type": "code",
   "execution_count": 18,
   "metadata": {},
   "outputs": [],
   "source": [
    "#This function will define the order of the operations (tree traversal order)\n",
    "def traverse_postorder(operation):\n",
    "    \"\"\"\n",
    "    PortOrder Traversal of Nodes. Basically makes sure computations\n",
    "    are done in the correct order (Ax first, then Ax + b).\n",
    "    \"\"\"\n",
    "\n",
    "    nodes_postorder = []\n",
    "    def recurse(node):\n",
    "        if isinstance(node, Operation):\n",
    "            for input_node in node.input_nodes:\n",
    "                recurse(input_node)\n",
    "        nodes_postorder.append(node)\n",
    "\n",
    "    recurse(operation)\n",
    "    return nodes_postorder"
   ]
  },
  {
   "cell_type": "markdown",
   "metadata": {},
   "source": [
    "Now that the framework is complete, let's run the operations"
   ]
  },
  {
   "cell_type": "code",
   "execution_count": 20,
   "metadata": {},
   "outputs": [
    {
     "ename": "NameError",
     "evalue": "name '_default_graph' is not defined",
     "output_type": "error",
     "traceback": [
      "\u001b[0;31m---------------------------------------------------------------------------\u001b[0m",
      "\u001b[0;31mNameError\u001b[0m                                 Traceback (most recent call last)",
      "\u001b[0;32m<ipython-input-20-197cab1b9ef3>\u001b[0m in \u001b[0;36m<module>\u001b[0;34m()\u001b[0m\n\u001b[1;32m      1\u001b[0m \u001b[0;31m#assigning the variable to a placeholder object\u001b[0m\u001b[0;34m\u001b[0m\u001b[0;34m\u001b[0m\u001b[0m\n\u001b[0;32m----> 2\u001b[0;31m \u001b[0mx\u001b[0m \u001b[0;34m=\u001b[0m \u001b[0mPlaceholder\u001b[0m\u001b[0;34m(\u001b[0m\u001b[0;34m)\u001b[0m\u001b[0;34m\u001b[0m\u001b[0m\n\u001b[0m",
      "\u001b[0;32m<ipython-input-15-05fb37c25e6b>\u001b[0m in \u001b[0;36m__init__\u001b[0;34m(self)\u001b[0m\n\u001b[1;32m      5\u001b[0m \u001b[0;34m\u001b[0m\u001b[0m\n\u001b[1;32m      6\u001b[0m         \u001b[0mself\u001b[0m\u001b[0;34m.\u001b[0m\u001b[0moutput_nodes\u001b[0m \u001b[0;34m=\u001b[0m \u001b[0;34m[\u001b[0m\u001b[0;34m]\u001b[0m\u001b[0;34m\u001b[0m\u001b[0m\n\u001b[0;32m----> 7\u001b[0;31m         \u001b[0m_default_graph\u001b[0m\u001b[0;34m.\u001b[0m\u001b[0mplaceholders\u001b[0m\u001b[0;34m.\u001b[0m\u001b[0mappend\u001b[0m\u001b[0;34m(\u001b[0m\u001b[0mself\u001b[0m\u001b[0;34m)\u001b[0m\u001b[0;34m\u001b[0m\u001b[0m\n\u001b[0m",
      "\u001b[0;31mNameError\u001b[0m: name '_default_graph' is not defined"
     ]
    }
   ],
   "source": [
    "#assigning the variable to a placeholder object\n",
    "x = Placeholder() "
   ]
  },
  {
   "cell_type": "markdown",
   "metadata": {},
   "source": [
    "Randomly using the classes without creating a session and a graph will produce an error"
   ]
  },
  {
   "cell_type": "markdown",
   "metadata": {},
   "source": [
    "#### Code to be run"
   ]
  },
  {
   "cell_type": "code",
   "execution_count": 62,
   "metadata": {},
   "outputs": [],
   "source": [
    "sess = Session()\n",
    "#Declaring a graph object for a matrix multiplication\n",
    "g = Graph()\n",
    "#setting default graph\n",
    "g.set_as_default()"
   ]
  },
  {
   "cell_type": "code",
   "execution_count": 63,
   "metadata": {},
   "outputs": [],
   "source": [
    "#Passing the variables\n",
    "A = Variable([[10,20],[30,40]])\n",
    "b = Variable([1,1])"
   ]
  },
  {
   "cell_type": "code",
   "execution_count": 64,
   "metadata": {},
   "outputs": [],
   "source": [
    "#Allocating the placeholder\n",
    "x = Placeholder()\n",
    "#Assigning the value of the operation to z\n",
    "z = matmul(A,x)"
   ]
  },
  {
   "cell_type": "code",
   "execution_count": 65,
   "metadata": {},
   "outputs": [
    {
     "data": {
      "text/plain": [
       "array([[100, 200],\n",
       "       [300, 400]])"
      ]
     },
     "execution_count": 65,
     "metadata": {},
     "output_type": "execute_result"
    }
   ],
   "source": [
    "sess.run(operation = z, feed_dict={x:10})"
   ]
  },
  {
   "cell_type": "code",
   "execution_count": null,
   "metadata": {},
   "outputs": [],
   "source": []
  }
 ],
 "metadata": {
  "kernelspec": {
   "display_name": "Python 3",
   "language": "python",
   "name": "python3"
  },
  "language_info": {
   "codemirror_mode": {
    "name": "ipython",
    "version": 3
   },
   "file_extension": ".py",
   "mimetype": "text/x-python",
   "name": "python",
   "nbconvert_exporter": "python",
   "pygments_lexer": "ipython3",
   "version": "3.6.5"
  }
 },
 "nbformat": 4,
 "nbformat_minor": 2
}
